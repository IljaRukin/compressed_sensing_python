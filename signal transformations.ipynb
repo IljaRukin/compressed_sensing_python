{
 "cells": [
  {
   "cell_type": "markdown",
   "id": "computational-sixth",
   "metadata": {},
   "source": [
    "# Transformations"
   ]
  },
  {
   "cell_type": "code",
   "execution_count": 1,
   "id": "collectible-professional",
   "metadata": {},
   "outputs": [],
   "source": [
    "%reset -f\n",
    "import numpy as np\n",
    "import pywt\n",
    "global i\n",
    "i = np.complex(0,1)"
   ]
  },
  {
   "cell_type": "code",
   "execution_count": 2,
   "id": "following-starter",
   "metadata": {},
   "outputs": [
    {
     "data": {
      "text/plain": [
       "array([7, 2, 6, 5, 3, 4, 1, 0], dtype=int64)"
      ]
     },
     "execution_count": 2,
     "metadata": {},
     "output_type": "execute_result"
    }
   ],
   "source": [
    "M = 8;\n",
    "f0 = np.random.default_rng(0).choice(M, size=M, replace=False)\n",
    "#f0 = np.reshape( np.arange(M)\n",
    "f0"
   ]
  },
  {
   "cell_type": "markdown",
   "id": "exterior-niagara",
   "metadata": {},
   "source": [
    "### dct"
   ]
  },
  {
   "cell_type": "code",
   "execution_count": 4,
   "id": "employed-spectrum",
   "metadata": {},
   "outputs": [],
   "source": [
    "from scipy.fftpack import dct,idct"
   ]
  },
  {
   "cell_type": "code",
   "execution_count": 9,
   "id": "specific-hebrew",
   "metadata": {},
   "outputs": [
    {
     "data": {
      "text/plain": [
       "array([ 9.89949494,  4.59914384, -1.80133178,  1.27624297,  0.70710678,\n",
       "        2.48066311,  3.04223665,  0.25571534])"
      ]
     },
     "execution_count": 9,
     "metadata": {},
     "output_type": "execute_result"
    }
   ],
   "source": [
    "coeff = dct( f0 , norm = 'ortho')\n",
    "coeff"
   ]
  },
  {
   "cell_type": "code",
   "execution_count": 10,
   "id": "virtual-multimedia",
   "metadata": {},
   "outputs": [
    {
     "data": {
      "text/plain": [
       "array([7., 2., 6., 5., 3., 4., 1., 0.])"
      ]
     },
     "execution_count": 10,
     "metadata": {},
     "output_type": "execute_result"
    }
   ],
   "source": [
    "idct(coeff, norm = 'ortho')"
   ]
  },
  {
   "cell_type": "markdown",
   "id": "muslim-sword",
   "metadata": {},
   "source": [
    "### fft"
   ]
  },
  {
   "cell_type": "code",
   "execution_count": 18,
   "id": "accepted-laugh",
   "metadata": {},
   "outputs": [
    {
     "data": {
      "text/plain": [
       "array([28.        +0.j        , -0.94974747-7.12132034j,\n",
       "        3.        -1.j        ,  8.94974747+2.87867966j,\n",
       "        6.        +0.j        ,  8.94974747-2.87867966j,\n",
       "        3.        +1.j        , -0.94974747+7.12132034j])"
      ]
     },
     "execution_count": 18,
     "metadata": {},
     "output_type": "execute_result"
    }
   ],
   "source": [
    "coeff = np.fft.fft( f0 )\n",
    "coeff"
   ]
  },
  {
   "cell_type": "code",
   "execution_count": 19,
   "id": "comparative-secretariat",
   "metadata": {},
   "outputs": [
    {
     "data": {
      "text/plain": [
       "array([ 7.0000000e+00+0.j,  2.0000000e+00+0.j,  6.0000000e+00+0.j,\n",
       "        5.0000000e+00+0.j,  3.0000000e+00+0.j,  4.0000000e+00+0.j,\n",
       "        1.0000000e+00+0.j, -4.4408921e-16+0.j])"
      ]
     },
     "execution_count": 19,
     "metadata": {},
     "output_type": "execute_result"
    }
   ],
   "source": [
    "np.fft.ifft(coeff)"
   ]
  },
  {
   "cell_type": "markdown",
   "id": "gentle-drinking",
   "metadata": {},
   "source": [
    "### real fft"
   ]
  },
  {
   "cell_type": "code",
   "execution_count": 20,
   "id": "graphic-baptist",
   "metadata": {},
   "outputs": [
    {
     "data": {
      "text/plain": [
       "array([28.        +0.j        , -0.94974747-7.12132034j,\n",
       "        3.        -1.j        ,  8.94974747+2.87867966j,\n",
       "        6.        +0.j        ])"
      ]
     },
     "execution_count": 20,
     "metadata": {},
     "output_type": "execute_result"
    }
   ],
   "source": [
    "coeff = np.fft.rfft( f0 )\n",
    "coeff"
   ]
  },
  {
   "cell_type": "code",
   "execution_count": 21,
   "id": "proved-gregory",
   "metadata": {},
   "outputs": [
    {
     "data": {
      "text/plain": [
       "array([ 7.0000000e+00,  2.0000000e+00,  6.0000000e+00,  5.0000000e+00,\n",
       "        3.0000000e+00,  4.0000000e+00,  1.0000000e+00, -4.4408921e-16])"
      ]
     },
     "execution_count": 21,
     "metadata": {},
     "output_type": "execute_result"
    }
   ],
   "source": [
    "np.fft.irfft(coeff)"
   ]
  },
  {
   "cell_type": "markdown",
   "id": "structured-terrain",
   "metadata": {},
   "source": [
    "### hermitian fft"
   ]
  },
  {
   "cell_type": "code",
   "execution_count": 22,
   "id": "collect-fossil",
   "metadata": {},
   "outputs": [
    {
     "data": {
      "text/plain": [
       "array([49.        , 12.18598068, -8.12498175,  1.34720719, -2.37866613,\n",
       "        8.46681213, 10.50364789,  5.        , 10.50364789,  8.46681213,\n",
       "       -2.37866613,  1.34720719, -8.12498175, 12.18598068])"
      ]
     },
     "execution_count": 22,
     "metadata": {},
     "output_type": "execute_result"
    }
   ],
   "source": [
    "coeff = np.fft.hfft( f0 )\n",
    "coeff"
   ]
  },
  {
   "cell_type": "code",
   "execution_count": 23,
   "id": "accessible-implementation",
   "metadata": {},
   "outputs": [
    {
     "data": {
      "text/plain": [
       "array([7.+0.00000000e+00j, 2.-6.34413157e-17j, 6.-6.34413157e-17j,\n",
       "       5.+3.17206578e-17j, 3.+3.17206578e-17j, 4.-6.34413157e-17j,\n",
       "       1.-6.34413157e-17j, 0.+0.00000000e+00j])"
      ]
     },
     "execution_count": 23,
     "metadata": {},
     "output_type": "execute_result"
    }
   ],
   "source": [
    "np.fft.ihfft(coeff)"
   ]
  },
  {
   "cell_type": "markdown",
   "id": "transparent-venice",
   "metadata": {},
   "source": [
    "### wavelets single-level"
   ]
  },
  {
   "cell_type": "code",
   "execution_count": 24,
   "id": "understood-yukon",
   "metadata": {},
   "outputs": [
    {
     "data": {
      "text/plain": [
       "(array([5.52744473, 6.71751442, 5.69152943, 1.8625013 ]),\n",
       " array([-2.79375195,  1.13001053,  1.54362308, -4.12252235]))"
      ]
     },
     "execution_count": 24,
     "metadata": {},
     "output_type": "execute_result"
    }
   ],
   "source": [
    "coeff = pywt.dwt( f0 , 'db2', mode='periodization')\n",
    "coeff"
   ]
  },
  {
   "cell_type": "code",
   "execution_count": 25,
   "id": "classified-things",
   "metadata": {},
   "outputs": [
    {
     "data": {
      "text/plain": [
       "array([7., 2., 6., 5., 3., 4., 1., 0.])"
      ]
     },
     "execution_count": 25,
     "metadata": {},
     "output_type": "execute_result"
    }
   ],
   "source": [
    "pywt.idwt(coeff[0], coeff[1], 'db2', mode='periodization')"
   ]
  },
  {
   "cell_type": "markdown",
   "id": "foreign-september",
   "metadata": {},
   "source": [
    "### wavelets multi-level multi-array"
   ]
  },
  {
   "cell_type": "code",
   "execution_count": 26,
   "id": "republican-frame",
   "metadata": {},
   "outputs": [
    {
     "data": {
      "text/plain": [
       "[array([6.29246825, 7.70753175]),\n",
       " array([ 1.39054446, -3.25656986]),\n",
       " array([-2.79375195,  1.13001053,  1.54362308, -4.12252235])]"
      ]
     },
     "execution_count": 26,
     "metadata": {},
     "output_type": "execute_result"
    }
   ],
   "source": [
    "coeff = pywt.wavedec( f0 , 'db2', mode='periodization', level=2)\n",
    "coeff"
   ]
  },
  {
   "cell_type": "code",
   "execution_count": 27,
   "id": "improved-croatia",
   "metadata": {},
   "outputs": [
    {
     "data": {
      "text/plain": [
       "array([7.0000000e+00, 2.0000000e+00, 6.0000000e+00, 5.0000000e+00,\n",
       "       3.0000000e+00, 4.0000000e+00, 1.0000000e+00, 4.4408921e-16])"
      ]
     },
     "execution_count": 27,
     "metadata": {},
     "output_type": "execute_result"
    }
   ],
   "source": [
    "pywt.waverec(coeff, 'db2', mode='periodization')"
   ]
  },
  {
   "cell_type": "markdown",
   "id": "cheap-mapping",
   "metadata": {},
   "source": [
    "### wavelets multi-level single-array"
   ]
  },
  {
   "cell_type": "code",
   "execution_count": 30,
   "id": "funny-pastor",
   "metadata": {},
   "outputs": [
    {
     "data": {
      "text/plain": [
       "(array([ 6.29246825,  7.70753175,  1.39054446, -3.25656986, -2.79375195,\n",
       "         1.13001053,  1.54362308, -4.12252235]),\n",
       " [(slice(None, 2, None),),\n",
       "  {'d': (slice(2, 4, None),)},\n",
       "  {'d': (slice(4, 8, None),)}])"
      ]
     },
     "execution_count": 30,
     "metadata": {},
     "output_type": "execute_result"
    }
   ],
   "source": [
    "coeff = pywt.wavedec( f0 , 'db2', mode='periodization', level=2)\n",
    "arr, a0_shape = pywt.coeffs_to_array(coeff)\n",
    "del coeff\n",
    "arr , a0_shape"
   ]
  },
  {
   "cell_type": "code",
   "execution_count": 31,
   "id": "roman-divide",
   "metadata": {},
   "outputs": [
    {
     "data": {
      "text/plain": [
       "array([7.0000000e+00, 2.0000000e+00, 6.0000000e+00, 5.0000000e+00,\n",
       "       3.0000000e+00, 4.0000000e+00, 1.0000000e+00, 4.4408921e-16])"
      ]
     },
     "execution_count": 31,
     "metadata": {},
     "output_type": "execute_result"
    }
   ],
   "source": [
    "coeff = pywt.array_to_coeffs(arr, a0_shape, output_format='wavedec')\n",
    "pywt.waverec(coeff, 'db2', mode='periodization')"
   ]
  },
  {
   "cell_type": "markdown",
   "id": "atlantic-ozone",
   "metadata": {},
   "source": [
    "### list wavelets"
   ]
  },
  {
   "cell_type": "code",
   "execution_count": 261,
   "id": "valid-bench",
   "metadata": {},
   "outputs": [
    {
     "data": {
      "text/plain": [
       "['haar',\n",
       " 'db',\n",
       " 'sym',\n",
       " 'coif',\n",
       " 'bior',\n",
       " 'rbio',\n",
       " 'dmey',\n",
       " 'gaus',\n",
       " 'mexh',\n",
       " 'morl',\n",
       " 'cgau',\n",
       " 'shan',\n",
       " 'fbsp',\n",
       " 'cmor']"
      ]
     },
     "execution_count": 261,
     "metadata": {},
     "output_type": "execute_result"
    }
   ],
   "source": [
    "pywt.families(short=True)"
   ]
  },
  {
   "cell_type": "code",
   "execution_count": 74,
   "id": "pursuant-football",
   "metadata": {
    "scrolled": true
   },
   "outputs": [
    {
     "data": {
      "text/plain": [
       "['db1',\n",
       " 'db2',\n",
       " 'db3',\n",
       " 'db4',\n",
       " 'db5',\n",
       " 'db6',\n",
       " 'db7',\n",
       " 'db8',\n",
       " 'db9',\n",
       " 'db10',\n",
       " 'db11',\n",
       " 'db12',\n",
       " 'db13',\n",
       " 'db14',\n",
       " 'db15',\n",
       " 'db16',\n",
       " 'db17',\n",
       " 'db18',\n",
       " 'db19',\n",
       " 'db20',\n",
       " 'db21',\n",
       " 'db22',\n",
       " 'db23',\n",
       " 'db24',\n",
       " 'db25',\n",
       " 'db26',\n",
       " 'db27',\n",
       " 'db28',\n",
       " 'db29',\n",
       " 'db30',\n",
       " 'db31',\n",
       " 'db32',\n",
       " 'db33',\n",
       " 'db34',\n",
       " 'db35',\n",
       " 'db36',\n",
       " 'db37',\n",
       " 'db38']"
      ]
     },
     "execution_count": 74,
     "metadata": {},
     "output_type": "execute_result"
    }
   ],
   "source": [
    "pywt.wavelist(family='db', kind='all')"
   ]
  },
  {
   "cell_type": "markdown",
   "id": "naughty-advertiser",
   "metadata": {},
   "source": [
    "# plot wavelets"
   ]
  },
  {
   "cell_type": "code",
   "execution_count": 41,
   "id": "conscious-genome",
   "metadata": {},
   "outputs": [],
   "source": [
    "from math import ceil\n",
    "import matplotlib.pyplot as plt"
   ]
  },
  {
   "cell_type": "code",
   "execution_count": 94,
   "id": "swedish-nashville",
   "metadata": {
    "scrolled": true
   },
   "outputs": [
    {
     "name": "stdout",
     "output_type": "stream",
     "text": [
      "haar\n"
     ]
    },
    {
     "name": "stderr",
     "output_type": "stream",
     "text": [
      "c:\\program files\\python38\\lib\\site-packages\\pywt\\_multilevel.py:43: UserWarning: Level value of 1 is too high: all coefficients will experience boundary effects.\n",
      "  warnings.warn(\n"
     ]
    },
    {
     "data": {
      "image/png": "[encoded data removed]",
      "text/plain": [
       "<Figure size 432x288 with 1 Axes>"
      ]
     },
     "metadata": {
      "needs_background": "light"
     },
     "output_type": "display_data"
    },
    {
     "name": "stdout",
     "output_type": "stream",
     "text": [
      "db38\n"
     ]
    },
    {
     "data": {
      "image/png": "[encoded data removed]",
      "text/plain": [
       "<Figure size 432x288 with 1 Axes>"
      ]
     },
     "metadata": {
      "needs_background": "light"
     },
     "output_type": "display_data"
    },
    {
     "name": "stdout",
     "output_type": "stream",
     "text": [
      "sym20\n"
     ]
    },
    {
     "data": {
      "image/png": "[encoded data removed]",
      "text/plain": [
       "<Figure size 432x288 with 1 Axes>"
      ]
     },
     "metadata": {
      "needs_background": "light"
     },
     "output_type": "display_data"
    },
    {
     "name": "stdout",
     "output_type": "stream",
     "text": [
      "coif17\n"
     ]
    },
    {
     "data": {
      "image/png": "[encoded data removed]",
      "text/plain": [
       "<Figure size 432x288 with 1 Axes>"
      ]
     },
     "metadata": {
      "needs_background": "light"
     },
     "output_type": "display_data"
    },
    {
     "name": "stdout",
     "output_type": "stream",
     "text": [
      "bior6.8\n"
     ]
    },
    {
     "data": {
      "image/png": "[encoded data removed]",
      "text/plain": [
       "<Figure size 432x288 with 1 Axes>"
      ]
     },
     "metadata": {
      "needs_background": "light"
     },
     "output_type": "display_data"
    },
    {
     "name": "stdout",
     "output_type": "stream",
     "text": [
      "rbio6.8\n"
     ]
    },
    {
     "data": {
      "image/png": "[encoded data removed]",
      "text/plain": [
       "<Figure size 432x288 with 1 Axes>"
      ]
     },
     "metadata": {
      "needs_background": "light"
     },
     "output_type": "display_data"
    }
   ],
   "source": [
    "M=50\n",
    "f0 = np.zeros(M)\n",
    "\n",
    "coeff = pywt.wavedec( f0 , 'db38', mode='periodization', level=1)\n",
    "arr, a0_shape = pywt.coeffs_to_array(coeff)\n",
    "\n",
    "for wv in ['haar', 'db38', 'sym20', 'coif17', 'bior6.8', 'rbio6.8']:\n",
    "    \n",
    "    print(wv)\n",
    "\n",
    "    arr = np.zeros(M)\n",
    "    arr[ceil(M/4)-8] = 1\n",
    "\n",
    "    coeff = pywt.array_to_coeffs(arr, a0_shape, output_format='wavedec')\n",
    "    f = pywt.waverec(coeff, wv, mode='periodization')\n",
    "    plt.plot(f)\n",
    "\n",
    "    arr = np.zeros(M)\n",
    "    arr[ceil(M*3/4)+8] = 1\n",
    "\n",
    "    coeff = pywt.array_to_coeffs(arr, a0_shape, output_format='wavedec')\n",
    "    f = pywt.waverec(coeff, wv, mode='periodization')\n",
    "    plt.plot(f)\n",
    "    \n",
    "    plt.show()"
   ]
  },
  {
   "cell_type": "markdown",
   "id": "brazilian-calcium",
   "metadata": {},
   "source": [
    "### compressed fft 1D"
   ]
  },
  {
   "cell_type": "code",
   "execution_count": 15,
   "id": "adjacent-disorder",
   "metadata": {},
   "outputs": [],
   "source": [
    "def compress_real_fft_coeff_1D(fft_coeff,**kwargs):\n",
    "    N,M = np.shape(fft_coeff)\n",
    "    if 'axis' in kwargs:\n",
    "        axis = kwargs['axis']\n",
    "    elif N==1:\n",
    "        axis = 0\n",
    "    elif M==1:\n",
    "        axis = 1\n",
    "    else: #revert to default\n",
    "        axis = 0\n",
    "    \n",
    "    compressed = np.zeros((N,M),dtype=float)\n",
    "    \n",
    "    if axis==0:\n",
    "        N2 = int(np.ceil(N/2))\n",
    "        N_even = (np.mod(N,2)==0)\n",
    "        compressed[0,:] = np.real(fft_coeff[0,:])\n",
    "        compressed[1:N2+N_even,:] = np.real(fft_coeff[1:N2+N_even,:])\n",
    "        compressed[N2+N_even:N,:] = np.imag(fft_coeff[N2+N_even:N,:])\n",
    "    else:\n",
    "        M2 = int(np.ceil(M/2))\n",
    "        M_even = (np.mod(M,2)==0)\n",
    "        compressed[:,0] = np.real(fft_coeff[:,0])\n",
    "        compressed[:,1:M2+M_even] = np.real(fft_coeff[:,1:M2+M_even])\n",
    "        compressed[:,M2+M_even:M] = np.imag(fft_coeff[:,M2+M_even:M])\n",
    "    \n",
    "    return np.real( compressed )\n",
    "\n",
    "def decompress_real_fft_coeff_1D(compressed,**kwargs):\n",
    "    N,M = np.shape(compressed)\n",
    "    if 'axis' in kwargs:\n",
    "        axis = kwargs['axis']\n",
    "    elif N==1:\n",
    "        axis = 0\n",
    "    elif M==1:\n",
    "        axis = 1\n",
    "    else: #revert to default\n",
    "        axis = 0\n",
    "    \n",
    "    decompressed = np.zeros((N,M),dtype=complex)\n",
    "    \n",
    "    M2 = int(np.ceil(M/2))\n",
    "    M_even = (np.mod(M,2)==0)\n",
    "    N2 = int(np.ceil(N/2))\n",
    "    N_even = (np.mod(N,2)==0)\n",
    "    \n",
    "    if axis==0:\n",
    "        decompressed[0,:] = np.real(compressed[0,:])\n",
    "        decompressed[1:N2+N_even,:] = compressed[1:N2+N_even,:]\n",
    "        decompressed[1:N2,:] += -i*compressed[N-1:N2+N_even-1:-1,:]\n",
    "        decompressed[N2+N_even:N,:] = compressed[N2-1:0:-1,:]\n",
    "        decompressed[N2+N_even:N,:] += i*compressed[N2+N_even:N,:]\n",
    "        \n",
    "    else:\n",
    "        decompressed[:,0] = np.real(compressed[:,0])\n",
    "        decompressed[:,1:M2+M_even] = compressed[:,1:M2+M_even]\n",
    "        decompressed[:,1:M2] += -i*compressed[:,M-1:M2+M_even-1:-1]\n",
    "        decompressed[:,M2+M_even:M] = compressed[:,M2-1:0:-1]\n",
    "        decompressed[:,M2+M_even:M] += i*compressed[:,M2+M_even:M]\n",
    "\n",
    "    return decompressed"
   ]
  },
  {
   "cell_type": "code",
   "execution_count": 16,
   "id": "played-kidney",
   "metadata": {},
   "outputs": [
    {
     "data": {
      "text/plain": [
       "(array([[0, 8, 3],\n",
       "        [7, 2, 5],\n",
       "        [4, 6, 1]], dtype=int64),\n",
       " array([[11.   , 16.   ,  9.   ],\n",
       "        [-5.5  ,  4.   ,  0.   ],\n",
       "        [ 2.598, -3.464,  3.464]]),\n",
       " array([[0., 8., 3.],\n",
       "        [7., 2., 5.],\n",
       "        [4., 6., 1.]]),\n",
       " 0.0)"
      ]
     },
     "execution_count": 16,
     "metadata": {},
     "output_type": "execute_result"
    }
   ],
   "source": [
    "#usage\n",
    "M = 3; N = 3;\n",
    "f0 = np.reshape( np.random.default_rng(0).choice(M*N, size=M*N, replace=False) , [N,M])\n",
    "#f0 = np.reshape( np.arange(M*N) , [N,M])\n",
    "x = compress_real_fft_coeff_1D( np.fft.fft( f0 ,axis=0) ,axis=0)\n",
    "f = np.fft.ifft( decompress_real_fft_coeff_1D( x ,axis=0) ,axis=0)\n",
    "np.round(f0,3) , np.round(x,3) , np.round(np.real(f),3) , np.round(np.sum(np.abs(f0-f)),3)"
   ]
  },
  {
   "cell_type": "markdown",
   "id": "patient-lincoln",
   "metadata": {},
   "source": [
    "### compressed fft 2D"
   ]
  },
  {
   "cell_type": "code",
   "execution_count": 266,
   "id": "endless-active",
   "metadata": {},
   "outputs": [],
   "source": [
    "\n",
    "def compress_real_fft_coeff_2D(fft2_coeff):\n",
    "    N,M = np.shape(fft2_coeff)\n",
    "    N2 = int(np.ceil(N/2))\n",
    "    M2 = int(np.ceil(M/2))\n",
    "    N_even = (np.mod(N,2)==0)\n",
    "    M_even = (np.mod(M,2)==0)\n",
    "\n",
    "    compressed = np.zeros((N,M),dtype=float)\n",
    "\n",
    "    compressed[0,0:(M2+M_even)] = np.real(fft2_coeff[0,0:(M2+M_even)])\n",
    "    compressed[0,(M2+M_even):M] = np.imag(fft2_coeff[0,(M2+M_even):M])\n",
    "    compressed[1:N2,:] = np.real(fft2_coeff[1:N2,:])\n",
    "    if N_even == 1:\n",
    "        compressed[N2+N_even-1,0:(M2+N_even*M_even)] = np.real(fft2_coeff[N2+N_even-1,0:(M2+N_even*M_even)])\n",
    "        compressed[N2+N_even-1,(M2+N_even*M_even):M] = np.imag(fft2_coeff[N2+N_even-1,(M2+N_even*M_even):M])\n",
    "\n",
    "    compressed[(N2+N_even):N,:] = np.imag(fft2_coeff[(N2+N_even):N,:])\n",
    "    return np.real( compressed )\n",
    "\n",
    "def decompress_real_fft_coeff_2D(compressed):\n",
    "    N,M = np.shape(compressed)\n",
    "    N2 = int(np.ceil(N/2))\n",
    "    M2 = int(np.ceil(M/2))\n",
    "    N_even = (np.mod(N,2)==0)\n",
    "    M_even = (np.mod(M,2)==0)\n",
    "\n",
    "    decompressed = np.zeros((N,M),dtype=complex)\n",
    "\n",
    "    ###decompressed[0,:] = np.concatenate(( compressed[0,0:(M2+M_even)], compressed[0,M2-1:0:-1] )) + i* np.concatenate(( [0] , -1*compressed[0,M-1:(M2+M_even-1):-1] , [0] , compressed[0,(M2+M_even):M] ))\n",
    "    decompressed[0,0:(M2+M_even)] = compressed[0,0:(M2+M_even)]\n",
    "    decompressed[0,(M2+M_even):M] = compressed[0,M2-1:0:-1]\n",
    "    decompressed[0,0] += i*0\n",
    "    decompressed[0,1:(M2)] += -i*compressed[0,M-1:(M2+M_even-1):-1]\n",
    "    decompressed[0,M2] += i*0\n",
    "    decompressed[0,(M2+M_even):M] += i*compressed[0,(M2+M_even):M]\n",
    "    ###decompressed[1:,0] = np.concatenate(( compressed[1:(N2+N_even),0].T, compressed[N2-1:0:-1,0].T )) + i* np.concatenate(( -1*compressed[N-1:(N2+N_even-1):-1,0].T , [0] , compressed[(N2+N_even):N,0].T ))\n",
    "    decompressed[1:(N2+N_even),0] = compressed[1:(N2+N_even),0]\n",
    "    decompressed[(N2+N_even):N,0] = compressed[N2-1:0:-1,0]\n",
    "    decompressed[1:(N2),0] += -i*compressed[N-1:(N2+N_even-1):-1,0]\n",
    "    decompressed[N2,0] += i*0\n",
    "    decompressed[(N2+N_even):N,0] += i*compressed[(N2+N_even):N,0]\n",
    "    ###decompressed[N2+N_even-1,1:] = np.concatenate(( compressed[N2+N_even-1,1:(M2+M_even)], compressed[N2+N_even-1,M2-1:0:-1] )) + i* np.concatenate(( -1*compressed[N2+N_even-1,M-1:(M2+M_even-1):-1] , [0] , compressed[N2+N_even-1,(M2+M_even):M] ))\n",
    "    decompressed[N2+N_even-1,1:(M2+M_even)] = compressed[N2+N_even-1,1:(M2+M_even)]\n",
    "    decompressed[N2+N_even-1,(M2+M_even):M] = compressed[N2+N_even-1,M2-1:0:-1]\n",
    "    decompressed[N2+N_even-1,1:(M2+M_even)] += -i*compressed[N2+N_even-1,M-1:(M2+M_even-1):-1]\n",
    "    decompressed[N2+N_even-1,1:M2] += i*0\n",
    "    decompressed[N2+N_even-1,(M2+M_even):M] += i*compressed[N2+N_even-1,(M2+M_even):M]\n",
    "\n",
    "    decompressed[1:N2,1:] = compressed[1:N2,1:] - i*np.rot90(compressed[(N2+N_even):,1:],2)\n",
    "    decompressed[(N2+N_even):,1:] = np.rot90(compressed[1:N2,1:],2) + i*compressed[(N2+N_even):,1:]\n",
    "    return decompressed\n"
   ]
  },
  {
   "cell_type": "code",
   "execution_count": 268,
   "id": "homeless-bahamas",
   "metadata": {},
   "outputs": [
    {
     "data": {
      "text/plain": [
       "(array([[0, 8, 3],\n",
       "        [7, 2, 5],\n",
       "        [4, 6, 1]], dtype=int64),\n",
       " array([[ 36.   ,  -1.5  ,   6.062],\n",
       "        [ -1.5  ,  -1.5  , -13.5  ],\n",
       "        [  2.598,  -0.866,   6.062]]),\n",
       " array([[0., 8., 3.],\n",
       "        [7., 2., 5.],\n",
       "        [4., 6., 1.]]),\n",
       " 0.0)"
      ]
     },
     "execution_count": 268,
     "metadata": {},
     "output_type": "execute_result"
    }
   ],
   "source": [
    "#usage\n",
    "M = 3; N = 3;\n",
    "f0 = np.reshape( np.random.default_rng(0).choice(M*N, size=M*N, replace=False) , [N,M])\n",
    "#f0 = np.reshape( np.arange(M*N) , [N,M])\n",
    "x = compress_real_fft_coeff_2D( np.fft.fft2( f0 ) )\n",
    "f = np.fft.ifft2( decompress_real_fft_coeff_2D( x ) )\n",
    "np.round(f0,3) , np.round(x,3) , np.round(np.real(f),3) , np.round(np.sum(np.abs(f0-f)),3)"
   ]
  },
  {
   "cell_type": "raw",
   "id": "8cf3e5bf",
   "metadata": {
    "scrolled": true
   },
   "source": [
    "### old implementations\n",
    "'''\n",
    "def compress_real_fft_coeff_2D(fft2_coeff):\n",
    "    N,M = np.shape(fft2_coeff)\n",
    "    N2 = int(np.ceil(N/2))\n",
    "    M2 = int(np.ceil(M/2))\n",
    "    N_even = (np.mod(N,2)==0)\n",
    "    M_even = (np.mod(M,2)==0)\n",
    "\n",
    "    compressed = np.zeros((N,M),dtype=float)\n",
    "\n",
    "    compressed[0,:] = np.concatenate(( np.real(fft2_coeff[0,0:(M2+M_even)]), np.imag(fft2_coeff[0,(M2+M_even):M]) ))\n",
    "    compressed[1:N2,:] = np.real(fft2_coeff[1:N2,:])\n",
    "    if N_even == 1:\n",
    "        compressed[N2+N_even-1,:] = np.concatenate(( np.real(fft2_coeff[N2+N_even-1,0:(M2+N_even*M_even)]), np.imag(fft2_coeff[N2+N_even-1,(M2+N_even*M_even):M]) ))\n",
    "\n",
    "    compressed[(N2+N_even):N,:] = np.imag(fft2_coeff[(N2+N_even):N,:])\n",
    "    return np.real( compressed )\n",
    "'''\n",
    "#----------\n",
    "'''\n",
    "def decompress_real_fft_coeff_2D(compressed):\n",
    "    N,M = np.shape(compressed)\n",
    "    N2 = int(np.ceil(N/2))\n",
    "    M2 = int(np.ceil(M/2))\n",
    "    N_even = (np.mod(N,2)==0)\n",
    "    M_even = (np.mod(M,2)==0)\n",
    "\n",
    "    decompressed = np.zeros((N,M),dtype=complex)\n",
    "\n",
    "    if N_even == 1:\n",
    "        if M_even == 1:\n",
    "            # M even && N even\n",
    "            decompressed[0,:] = np.concatenate(( compressed[0,0:(M2+M_even)], compressed[0,M2-1:0:-1] )) + i* np.concatenate(( [0] , -1*compressed[0,M-1:(M2+M_even-1):-1] , [0] , compressed[0,(M2+M_even):M] ))\n",
    "            decompressed[1:,0] = np.concatenate(( compressed[1:(N2+N_even),0].T, compressed[N2-1:0:-1,0].T )) + i* np.concatenate(( -1*compressed[N-1:(N2+N_even-1):-1,0].T , [0] , compressed[(N2+N_even):N,0].T ))\n",
    "            decompressed[N2+N_even-1,1:] = np.concatenate(( compressed[N2+N_even-1,1:(M2+M_even)], compressed[N2+N_even-1,M2-1:0:-1] )) + i* np.concatenate(( -1*compressed[N2+N_even-1,M-1:(M2+M_even-1):-1] , [0] , compressed[N2+N_even-1,(M2+M_even):M] ))\n",
    "        else:\n",
    "            # M odd && N even\n",
    "            decompressed[0,:] = np.concatenate(( compressed[0,0:(M2+M_even)], compressed[0,M2-1:0:-1] )) + i* np.concatenate(( [0] , -1*compressed[0,M-1:(M2+M_even-1):-1] , compressed[0,(M2+M_even):M] ))\n",
    "            decompressed[1:,0] = np.concatenate(( compressed[1:(N2+N_even),0].T, compressed[N2-1:0:-1,0].T )) + i* np.concatenate(( -1*compressed[N-1:(N2+N_even-1):-1,0].T , [0] , compressed[(N2+N_even):N,0].T ))\n",
    "            decompressed[N2+N_even-1,1:] = np.concatenate(( compressed[N2+N_even-1,1:(M2+M_even)], compressed[N2+N_even-1,M2-1:0:-1] )) + i* np.concatenate(( -1*compressed[N2+N_even-1,M-1:(M2+M_even-1):-1] , compressed[N2+N_even-1,(M2+M_even):M] ))\n",
    "    else:\n",
    "        if M_even == 1:\n",
    "            # M even && N odd\n",
    "            decompressed[0,:] = np.concatenate(( compressed[0,0:(M2+M_even)], compressed[0,M2-1:0:-1] )) + i* np.concatenate(( [0] , -1*compressed[0,M-1:(M2+M_even-1):-1] , [0] , compressed[0,(M2+M_even):M] ))\n",
    "            decompressed[1:,0] = np.concatenate(( compressed[1:(N2+N_even),0].T, compressed[N2-1:0:-1,0].T )) + i* np.concatenate(( -1*compressed[N-1:(N2+N_even-1):-1,0].T , compressed[(N2+N_even):N,0].T ))\n",
    "        else:\n",
    "            # M odd && N odd\n",
    "            decompressed[0,:] = np.concatenate(( compressed[0,0:(M2+M_even)], compressed[0,M2-1:0:-1] )) + i* np.concatenate(( [0] , -1*compressed[0,M-1:(M2+M_even-1):-1] , compressed[0,(M2+M_even):M] ))\n",
    "            decompressed[1:,0] = np.concatenate(( compressed[1:(N2+N_even),0].T, compressed[N2-1:0:-1,0].T )) + i* np.concatenate(( -1*compressed[N-1:(N2+N_even-1):-1,0].T , compressed[(N2+N_even):N,0].T ))\n",
    "\n",
    "    decompressed[1:N2,1:] = compressed[1:N2,1:] - i*np.rot90(compressed[(N2+N_even):,1:],2)\n",
    "    decompressed[(N2+N_even):,1:] = np.rot90(compressed[1:N2,1:],2) + i*compressed[(N2+N_even):,1:]\n",
    "    return decompressed\n",
    "'''\n",
    "#----------\n",
    "'''\n",
    "def decompress_real_fft_coeff_2D(compressed):\n",
    "    N,M = np.shape(compressed)\n",
    "    N2 = int(np.ceil(N/2))\n",
    "    M2 = int(np.ceil(M/2))\n",
    "    N_even = (np.mod(N,2)==0)\n",
    "    M_even = (np.mod(M,2)==0)\n",
    "\n",
    "    decompressed = np.zeros((N,M),dtype=complex)\n",
    "\n",
    "    if N_even == 1:\n",
    "        if M_even == 1:\n",
    "            # M even && N even\n",
    "            ###decompressed[0,:] = np.concatenate(( compressed[0,0:(M2+M_even)], compressed[0,M2-1:0:-1] )) + i* np.concatenate(( [0] , -1*compressed[0,M-1:(M2+M_even-1):-1] , [0] , compressed[0,(M2+M_even):M] ))\n",
    "            decompressed[0,0:(M2+M_even)] = compressed[0,0:(M2+M_even)]\n",
    "            decompressed[0,(M2+M_even):M] = compressed[0,M2-1:0:-1]\n",
    "            decompressed[0,0] += i*0\n",
    "            decompressed[0,1:(M2)] += -i*compressed[0,M-1:(M2+M_even-1):-1]\n",
    "            decompressed[0,M2] += i*0\n",
    "            decompressed[0,(M2+M_even):M] += i*compressed[0,(M2+M_even):M]\n",
    "            ###decompressed[1:,0] = np.concatenate(( compressed[1:(N2+N_even),0].T, compressed[N2-1:0:-1,0].T )) + i* np.concatenate(( -1*compressed[N-1:(N2+N_even-1):-1,0].T , [0] , compressed[(N2+N_even):N,0].T ))\n",
    "            decompressed[1:(N2+N_even),0] = compressed[1:(N2+N_even),0]\n",
    "            decompressed[(N2+N_even):N,0] = compressed[N2-1:0:-1,0]\n",
    "            decompressed[1:(N2),0] += -i*compressed[N-1:(N2+N_even-1):-1,0]\n",
    "            decompressed[N2,0] += i*0\n",
    "            decompressed[(N2+N_even):N,0] += i*compressed[(N2+N_even):N,0]\n",
    "#            ###decompressed[N2+N_even-1,1:] = np.concatenate(( compressed[N2+N_even-1,1:(M2+M_even)], compressed[N2+N_even-1,M2-1:0:-1] )) + i* np.concatenate(( -1*compressed[N2+N_even-1,M-1:(M2+M_even-1):-1] , [0] , compressed[N2+N_even-1,(M2+M_even):M] ))\n",
    "            decompressed[N2+N_even-1,1:(M2+M_even)] = compressed[N2+N_even-1,1:(M2+M_even)]\n",
    "            decompressed[N2+N_even-1,(M2+M_even):M] = compressed[N2+N_even-1,M2-1:0:-1]\n",
    "            decompressed[N2+N_even-1,1:(M2+M_even)] += -i*compressed[N2+N_even-1,M-1:(M2+M_even-1):-1]\n",
    "            decompressed[N2+N_even-1,1:M2] += i*0\n",
    "            decompressed[N2+N_even-1,(M2+M_even):M] += i*compressed[N2+N_even-1,(M2+M_even):M]\n",
    "        else:\n",
    "            # M odd && N even\n",
    "            ###decompressed[0,:] = np.concatenate(( compressed[0,0:(M2+M_even)], compressed[0,M2-1:0:-1] )) + i* np.concatenate(( [0] , -1*compressed[0,M-1:(M2+M_even-1):-1] , compressed[0,(M2+M_even):M] ))\n",
    "            decompressed[0,0:(M2+M_even)] = compressed[0,0:(M2+M_even)]\n",
    "            decompressed[0,(M2+M_even):M] = compressed[0,M2-1:0:-1]\n",
    "            decompressed[0,0] += i*0\n",
    "            decompressed[0,1:(M2)] += -i*compressed[0,M-1:(M2+M_even-1):-1]\n",
    "            #---decompressed[0,M2] += i*0\n",
    "            decompressed[0,(M2+M_even):M] += i*compressed[0,(M2+M_even):M]\n",
    "            ###decompressed[1:,0] = np.concatenate(( compressed[1:(N2+N_even),0].T, compressed[N2-1:0:-1,0].T )) + i* np.concatenate(( -1*compressed[N-1:(N2+N_even-1):-1,0].T , [0] , compressed[(N2+N_even):N,0].T ))\n",
    "            decompressed[1:(N2+N_even),0] = compressed[1:(N2+N_even),0]\n",
    "            decompressed[(N2+N_even):N,0] = compressed[N2-1:0:-1,0]\n",
    "            decompressed[1:(N2),0] += -i*compressed[N-1:(N2+N_even-1):-1,0]\n",
    "            decompressed[N2,0] += i*0\n",
    "            decompressed[(N2+N_even):N,0] += i*compressed[(N2+N_even):N,0]\n",
    "#            ###decompressed[N2+N_even-1,1:] = np.concatenate(( compressed[N2+N_even-1,1:(M2+M_even)], compressed[N2+N_even-1,M2-1:0:-1] )) + i* np.concatenate(( -1*compressed[N2+N_even-1,M-1:(M2+M_even-1):-1] , compressed[N2+N_even-1,(M2+M_even):M] ))\n",
    "            decompressed[N2+N_even-1,1:(M2+M_even)] = compressed[N2+N_even-1,1:(M2+M_even)]\n",
    "            decompressed[N2+N_even-1,(M2+M_even):M] = compressed[N2+N_even-1,M2-1:0:-1]\n",
    "            decompressed[N2+N_even-1,1:(M2+M_even)] += -i*compressed[N2+N_even-1,M-1:(M2+M_even-1):-1]\n",
    "            #---decompressed[N2+N_even-1,1:M2] += i*0\n",
    "            decompressed[N2+N_even-1,(M2+M_even):M] += i*compressed[N2+N_even-1,(M2+M_even):M]\n",
    "    else:\n",
    "        if M_even == 1:\n",
    "            # M even && N odd\n",
    "            ###decompressed[0,:] = np.concatenate(( compressed[0,0:(M2+M_even)], compressed[0,M2-1:0:-1] )) + i* np.concatenate(( [0] , -1*compressed[0,M-1:(M2+M_even-1):-1] , [0] , compressed[0,(M2+M_even):M] ))\n",
    "            decompressed[0,0:(M2+M_even)] = compressed[0,0:(M2+M_even)]\n",
    "            decompressed[0,(M2+M_even):M] = compressed[0,M2-1:0:-1]\n",
    "            decompressed[0,0] += i*0\n",
    "            decompressed[0,1:(M2)] += -i*compressed[0,M-1:(M2+M_even-1):-1]\n",
    "            decompressed[0,M2] += i*0\n",
    "            decompressed[0,(M2+M_even):M] += i*compressed[0,(M2+M_even):M]\n",
    "            ###decompressed[1:,0] = np.concatenate(( compressed[1:(N2+N_even),0].T, compressed[N2-1:0:-1,0].T )) + i* np.concatenate(( -1*compressed[N-1:(N2+N_even-1):-1,0].T , compressed[(N2+N_even):N,0].T ))\n",
    "            decompressed[1:(N2+N_even),0] = compressed[1:(N2+N_even),0]\n",
    "            decompressed[(N2+N_even):N,0] = compressed[N2-1:0:-1,0]\n",
    "            decompressed[1:(N2),0] += -i*compressed[N-1:(N2+N_even-1):-1,0]\n",
    "            #---decompressed[N2,0] += i*0\n",
    "            decompressed[(N2+N_even):N,0] += i*compressed[(N2+N_even):N,0]\n",
    "#            ###\n",
    "            decompressed[N2+N_even-1,1:(M2+M_even)] = compressed[N2+N_even-1,1:(M2+M_even)]\n",
    "            decompressed[N2+N_even-1,(M2+M_even):M] = compressed[N2+N_even-1,M2-1:0:-1]\n",
    "            decompressed[N2+N_even-1,1:(M2+M_even)] += -i*compressed[N2+N_even-1,M-1:(M2+M_even-1):-1]\n",
    "            decompressed[N2+N_even-1,1:M2] += i*0\n",
    "            decompressed[N2+N_even-1,(M2+M_even):M] += i*compressed[N2+N_even-1,(M2+M_even):M]\n",
    "        else:\n",
    "            # M odd && N odd\n",
    "            ###decompressed[0,:] = np.concatenate(( compressed[0,0:(M2+M_even)], compressed[0,M2-1:0:-1] )) + i* np.concatenate(( [0] , -1*compressed[0,M-1:(M2+M_even-1):-1] , compressed[0,(M2+M_even):M] ))\n",
    "            decompressed[0,0:(M2+M_even)] = compressed[0,0:(M2+M_even)]\n",
    "            decompressed[0,(M2+M_even):M] = compressed[0,M2-1:0:-1]\n",
    "            decompressed[0,0] += i*0\n",
    "            decompressed[0,1:(M2)] += -i*compressed[0,M-1:(M2+M_even-1):-1]\n",
    "            #---decompressed[0,M2] += i*0\n",
    "            decompressed[0,(M2+M_even):M] += i*compressed[0,(M2+M_even):M]\n",
    "            ###decompressed[1:,0] = np.concatenate(( compressed[1:(N2+N_even),0].T, compressed[N2-1:0:-1,0].T )) + i* np.concatenate(( -1*compressed[N-1:(N2+N_even-1):-1,0].T , compressed[(N2+N_even):N,0].T ))\n",
    "            decompressed[1:(N2+N_even),0] = compressed[1:(N2+N_even),0]\n",
    "            decompressed[(N2+N_even):N,0] = compressed[N2-1:0:-1,0]\n",
    "            decompressed[1:(N2),0] += -i*compressed[N-1:(N2+N_even-1):-1,0]\n",
    "            #---decompressed[N2,0] += i*0\n",
    "            decompressed[(N2+N_even):N,0] += i*compressed[(N2+N_even):N,0]\n",
    "#            ###\n",
    "            decompressed[N2+N_even-1,1:(M2+M_even)] = compressed[N2+N_even-1,1:(M2+M_even)]\n",
    "            decompressed[N2+N_even-1,(M2+M_even):M] = compressed[N2+N_even-1,M2-1:0:-1]\n",
    "            decompressed[N2+N_even-1,1:(M2+M_even)] += -i*compressed[N2+N_even-1,M-1:(M2+M_even-1):-1]\n",
    "            decompressed[N2+N_even-1,1:M2] += i*0\n",
    "            decompressed[N2+N_even-1,(M2+M_even):M] += i*compressed[N2+N_even-1,(M2+M_even):M]\n",
    "\n",
    "    decompressed[1:N2,1:] = compressed[1:N2,1:] - i*np.rot90(compressed[(N2+N_even):,1:],2)\n",
    "    decompressed[(N2+N_even):,1:] = np.rot90(compressed[1:N2,1:],2) + i*compressed[(N2+N_even):,1:]\n",
    "    return decompressed\n",
    "'''"
   ]
  },
  {
   "cell_type": "code",
   "execution_count": null,
   "id": "abroad-teens",
   "metadata": {},
   "outputs": [],
   "source": []
  }
 ],
 "metadata": {
  "kernelspec": {
   "display_name": "Python 3",
   "language": "python",
   "name": "python3"
  },
  "language_info": {
   "codemirror_mode": {
    "name": "ipython",
    "version": 3
   },
   "file_extension": ".py",
   "mimetype": "text/x-python",
   "name": "python",
   "nbconvert_exporter": "python",
   "pygments_lexer": "ipython3",
   "version": "3.8.8"
  }
 },
 "nbformat": 4,
 "nbformat_minor": 5
}
